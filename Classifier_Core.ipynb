{
  "nbformat": 4,
  "nbformat_minor": 0,
  "metadata": {
    "colab": {
      "name": "Classifier_Core.ipynb",
      "provenance": [],
      "authorship_tag": "ABX9TyNzGCTLCQ8D7kMSb+XXTc6+",
      "include_colab_link": true
    },
    "kernelspec": {
      "name": "python3",
      "display_name": "Python 3"
    },
    "language_info": {
      "name": "python"
    }
  },
  "cells": [
    {
      "cell_type": "markdown",
      "metadata": {
        "id": "view-in-github",
        "colab_type": "text"
      },
      "source": [
        "<a href=\"https://colab.research.google.com/github/jessamcs/Week7_Classification/blob/main/Classifier_Core.ipynb\" target=\"_parent\"><img src=\"https://colab.research.google.com/assets/colab-badge.svg\" alt=\"Open In Colab\"/></a>"
      ]
    },
    {
      "cell_type": "code",
      "execution_count": 10,
      "metadata": {
        "colab": {
          "base_uri": "https://localhost:8080/",
          "height": 270
        },
        "id": "RYIA4ba_auCc",
        "outputId": "2b520da8-5538-45c1-8d44-f0df853d5daa"
      },
      "outputs": [
        {
          "output_type": "execute_result",
          "data": {
            "text/html": [
              "\n",
              "  <div id=\"df-93440ceb-faf4-45ea-a0d1-913e570cad75\">\n",
              "    <div class=\"colab-df-container\">\n",
              "      <div>\n",
              "<style scoped>\n",
              "    .dataframe tbody tr th:only-of-type {\n",
              "        vertical-align: middle;\n",
              "    }\n",
              "\n",
              "    .dataframe tbody tr th {\n",
              "        vertical-align: top;\n",
              "    }\n",
              "\n",
              "    .dataframe thead th {\n",
              "        text-align: right;\n",
              "    }\n",
              "</style>\n",
              "<table border=\"1\" class=\"dataframe\">\n",
              "  <thead>\n",
              "    <tr style=\"text-align: right;\">\n",
              "      <th></th>\n",
              "      <th></th>\n",
              "      <th></th>\n",
              "      <th></th>\n",
              "      <th></th>\n",
              "      <th></th>\n",
              "      <th></th>\n",
              "      <th></th>\n",
              "      <th></th>\n",
              "      <th></th>\n",
              "      <th></th>\n",
              "      <th></th>\n",
              "      <th></th>\n",
              "      <th></th>\n",
              "      <th></th>\n",
              "      <th></th>\n",
              "      <th></th>\n",
              "      <th></th>\n",
              "      <th></th>\n",
              "      <th></th>\n",
              "      <th></th>\n",
              "      <th></th>\n",
              "      <th></th>\n",
              "      <th></th>\n",
              "      <th></th>\n",
              "      <th></th>\n",
              "      <th></th>\n",
              "      <th>id</th>\n",
              "      <th>diagnosis</th>\n",
              "      <th>radius_mean</th>\n",
              "      <th>texture_mean</th>\n",
              "      <th>perimeter_mean</th>\n",
              "    </tr>\n",
              "  </thead>\n",
              "  <tbody>\n",
              "    <tr>\n",
              "      <th>842302</th>\n",
              "      <th>M</th>\n",
              "      <th>17.99</th>\n",
              "      <th>10.38</th>\n",
              "      <th>122.80</th>\n",
              "      <th>1001.0</th>\n",
              "      <th>0.11840</th>\n",
              "      <th>0.27760</th>\n",
              "      <th>0.3001</th>\n",
              "      <th>0.14710</th>\n",
              "      <th>0.2419</th>\n",
              "      <th>0.07871</th>\n",
              "      <th>1.0950</th>\n",
              "      <th>0.9053</th>\n",
              "      <th>8.589</th>\n",
              "      <th>153.40</th>\n",
              "      <th>0.006399</th>\n",
              "      <th>0.04904</th>\n",
              "      <th>0.05373</th>\n",
              "      <th>0.01587</th>\n",
              "      <th>0.03003</th>\n",
              "      <th>0.006193</th>\n",
              "      <th>25.38</th>\n",
              "      <th>17.33</th>\n",
              "      <th>184.60</th>\n",
              "      <th>2019.0</th>\n",
              "      <th>0.1622</th>\n",
              "      <td>0.6656</td>\n",
              "      <td>0.7119</td>\n",
              "      <td>0.2654</td>\n",
              "      <td>0.4601</td>\n",
              "      <td>0.11890</td>\n",
              "    </tr>\n",
              "    <tr>\n",
              "      <th>842517</th>\n",
              "      <th>M</th>\n",
              "      <th>20.57</th>\n",
              "      <th>17.77</th>\n",
              "      <th>132.90</th>\n",
              "      <th>1326.0</th>\n",
              "      <th>0.08474</th>\n",
              "      <th>0.07864</th>\n",
              "      <th>0.0869</th>\n",
              "      <th>0.07017</th>\n",
              "      <th>0.1812</th>\n",
              "      <th>0.05667</th>\n",
              "      <th>0.5435</th>\n",
              "      <th>0.7339</th>\n",
              "      <th>3.398</th>\n",
              "      <th>74.08</th>\n",
              "      <th>0.005225</th>\n",
              "      <th>0.01308</th>\n",
              "      <th>0.01860</th>\n",
              "      <th>0.01340</th>\n",
              "      <th>0.01389</th>\n",
              "      <th>0.003532</th>\n",
              "      <th>24.99</th>\n",
              "      <th>23.41</th>\n",
              "      <th>158.80</th>\n",
              "      <th>1956.0</th>\n",
              "      <th>0.1238</th>\n",
              "      <td>0.1866</td>\n",
              "      <td>0.2416</td>\n",
              "      <td>0.1860</td>\n",
              "      <td>0.2750</td>\n",
              "      <td>0.08902</td>\n",
              "    </tr>\n",
              "    <tr>\n",
              "      <th>84300903</th>\n",
              "      <th>M</th>\n",
              "      <th>19.69</th>\n",
              "      <th>21.25</th>\n",
              "      <th>130.00</th>\n",
              "      <th>1203.0</th>\n",
              "      <th>0.10960</th>\n",
              "      <th>0.15990</th>\n",
              "      <th>0.1974</th>\n",
              "      <th>0.12790</th>\n",
              "      <th>0.2069</th>\n",
              "      <th>0.05999</th>\n",
              "      <th>0.7456</th>\n",
              "      <th>0.7869</th>\n",
              "      <th>4.585</th>\n",
              "      <th>94.03</th>\n",
              "      <th>0.006150</th>\n",
              "      <th>0.04006</th>\n",
              "      <th>0.03832</th>\n",
              "      <th>0.02058</th>\n",
              "      <th>0.02250</th>\n",
              "      <th>0.004571</th>\n",
              "      <th>23.57</th>\n",
              "      <th>25.53</th>\n",
              "      <th>152.50</th>\n",
              "      <th>1709.0</th>\n",
              "      <th>0.1444</th>\n",
              "      <td>0.4245</td>\n",
              "      <td>0.4504</td>\n",
              "      <td>0.2430</td>\n",
              "      <td>0.3613</td>\n",
              "      <td>0.08758</td>\n",
              "    </tr>\n",
              "    <tr>\n",
              "      <th>84348301</th>\n",
              "      <th>M</th>\n",
              "      <th>11.42</th>\n",
              "      <th>20.38</th>\n",
              "      <th>77.58</th>\n",
              "      <th>386.1</th>\n",
              "      <th>0.14250</th>\n",
              "      <th>0.28390</th>\n",
              "      <th>0.2414</th>\n",
              "      <th>0.10520</th>\n",
              "      <th>0.2597</th>\n",
              "      <th>0.09744</th>\n",
              "      <th>0.4956</th>\n",
              "      <th>1.1560</th>\n",
              "      <th>3.445</th>\n",
              "      <th>27.23</th>\n",
              "      <th>0.009110</th>\n",
              "      <th>0.07458</th>\n",
              "      <th>0.05661</th>\n",
              "      <th>0.01867</th>\n",
              "      <th>0.05963</th>\n",
              "      <th>0.009208</th>\n",
              "      <th>14.91</th>\n",
              "      <th>26.50</th>\n",
              "      <th>98.87</th>\n",
              "      <th>567.7</th>\n",
              "      <th>0.2098</th>\n",
              "      <td>0.8663</td>\n",
              "      <td>0.6869</td>\n",
              "      <td>0.2575</td>\n",
              "      <td>0.6638</td>\n",
              "      <td>0.17300</td>\n",
              "    </tr>\n",
              "    <tr>\n",
              "      <th>84358402</th>\n",
              "      <th>M</th>\n",
              "      <th>20.29</th>\n",
              "      <th>14.34</th>\n",
              "      <th>135.10</th>\n",
              "      <th>1297.0</th>\n",
              "      <th>0.10030</th>\n",
              "      <th>0.13280</th>\n",
              "      <th>0.1980</th>\n",
              "      <th>0.10430</th>\n",
              "      <th>0.1809</th>\n",
              "      <th>0.05883</th>\n",
              "      <th>0.7572</th>\n",
              "      <th>0.7813</th>\n",
              "      <th>5.438</th>\n",
              "      <th>94.44</th>\n",
              "      <th>0.011490</th>\n",
              "      <th>0.02461</th>\n",
              "      <th>0.05688</th>\n",
              "      <th>0.01885</th>\n",
              "      <th>0.01756</th>\n",
              "      <th>0.005115</th>\n",
              "      <th>22.54</th>\n",
              "      <th>16.67</th>\n",
              "      <th>152.20</th>\n",
              "      <th>1575.0</th>\n",
              "      <th>0.1374</th>\n",
              "      <td>0.2050</td>\n",
              "      <td>0.4000</td>\n",
              "      <td>0.1625</td>\n",
              "      <td>0.2364</td>\n",
              "      <td>0.07678</td>\n",
              "    </tr>\n",
              "  </tbody>\n",
              "</table>\n",
              "</div>\n",
              "      <button class=\"colab-df-convert\" onclick=\"convertToInteractive('df-93440ceb-faf4-45ea-a0d1-913e570cad75')\"\n",
              "              title=\"Convert this dataframe to an interactive table.\"\n",
              "              style=\"display:none;\">\n",
              "        \n",
              "  <svg xmlns=\"http://www.w3.org/2000/svg\" height=\"24px\"viewBox=\"0 0 24 24\"\n",
              "       width=\"24px\">\n",
              "    <path d=\"M0 0h24v24H0V0z\" fill=\"none\"/>\n",
              "    <path d=\"M18.56 5.44l.94 2.06.94-2.06 2.06-.94-2.06-.94-.94-2.06-.94 2.06-2.06.94zm-11 1L8.5 8.5l.94-2.06 2.06-.94-2.06-.94L8.5 2.5l-.94 2.06-2.06.94zm10 10l.94 2.06.94-2.06 2.06-.94-2.06-.94-.94-2.06-.94 2.06-2.06.94z\"/><path d=\"M17.41 7.96l-1.37-1.37c-.4-.4-.92-.59-1.43-.59-.52 0-1.04.2-1.43.59L10.3 9.45l-7.72 7.72c-.78.78-.78 2.05 0 2.83L4 21.41c.39.39.9.59 1.41.59.51 0 1.02-.2 1.41-.59l7.78-7.78 2.81-2.81c.8-.78.8-2.07 0-2.86zM5.41 20L4 18.59l7.72-7.72 1.47 1.35L5.41 20z\"/>\n",
              "  </svg>\n",
              "      </button>\n",
              "      \n",
              "  <style>\n",
              "    .colab-df-container {\n",
              "      display:flex;\n",
              "      flex-wrap:wrap;\n",
              "      gap: 12px;\n",
              "    }\n",
              "\n",
              "    .colab-df-convert {\n",
              "      background-color: #E8F0FE;\n",
              "      border: none;\n",
              "      border-radius: 50%;\n",
              "      cursor: pointer;\n",
              "      display: none;\n",
              "      fill: #1967D2;\n",
              "      height: 32px;\n",
              "      padding: 0 0 0 0;\n",
              "      width: 32px;\n",
              "    }\n",
              "\n",
              "    .colab-df-convert:hover {\n",
              "      background-color: #E2EBFA;\n",
              "      box-shadow: 0px 1px 2px rgba(60, 64, 67, 0.3), 0px 1px 3px 1px rgba(60, 64, 67, 0.15);\n",
              "      fill: #174EA6;\n",
              "    }\n",
              "\n",
              "    [theme=dark] .colab-df-convert {\n",
              "      background-color: #3B4455;\n",
              "      fill: #D2E3FC;\n",
              "    }\n",
              "\n",
              "    [theme=dark] .colab-df-convert:hover {\n",
              "      background-color: #434B5C;\n",
              "      box-shadow: 0px 1px 3px 1px rgba(0, 0, 0, 0.15);\n",
              "      filter: drop-shadow(0px 1px 2px rgba(0, 0, 0, 0.3));\n",
              "      fill: #FFFFFF;\n",
              "    }\n",
              "  </style>\n",
              "\n",
              "      <script>\n",
              "        const buttonEl =\n",
              "          document.querySelector('#df-93440ceb-faf4-45ea-a0d1-913e570cad75 button.colab-df-convert');\n",
              "        buttonEl.style.display =\n",
              "          google.colab.kernel.accessAllowed ? 'block' : 'none';\n",
              "\n",
              "        async function convertToInteractive(key) {\n",
              "          const element = document.querySelector('#df-93440ceb-faf4-45ea-a0d1-913e570cad75');\n",
              "          const dataTable =\n",
              "            await google.colab.kernel.invokeFunction('convertToInteractive',\n",
              "                                                     [key], {});\n",
              "          if (!dataTable) return;\n",
              "\n",
              "          const docLinkHtml = 'Like what you see? Visit the ' +\n",
              "            '<a target=\"_blank\" href=https://colab.research.google.com/notebooks/data_table.ipynb>data table notebook</a>'\n",
              "            + ' to learn more about interactive tables.';\n",
              "          element.innerHTML = '';\n",
              "          dataTable['output_type'] = 'display_data';\n",
              "          await google.colab.output.renderOutput(dataTable, element);\n",
              "          const docLink = document.createElement('div');\n",
              "          docLink.innerHTML = docLinkHtml;\n",
              "          element.appendChild(docLink);\n",
              "        }\n",
              "      </script>\n",
              "    </div>\n",
              "  </div>\n",
              "  "
            ],
            "text/plain": [
              "                                                                                                                                                                                                      id  ...  perimeter_mean\n",
              "842302   M 17.99 10.38 122.80 1001.0 0.11840 0.27760 0.3001 0.14710 0.2419 0.07871 1.0950 0.9053 8.589 153.40 0.006399 0.04904 0.05373 0.01587 0.03003 0.006193 25.38 17.33 184.60 2019.0 0.1622  0.6656  ...         0.11890\n",
              "842517   M 20.57 17.77 132.90 1326.0 0.08474 0.07864 0.0869 0.07017 0.1812 0.05667 0.5435 0.7339 3.398 74.08  0.005225 0.01308 0.01860 0.01340 0.01389 0.003532 24.99 23.41 158.80 1956.0 0.1238  0.1866  ...         0.08902\n",
              "84300903 M 19.69 21.25 130.00 1203.0 0.10960 0.15990 0.1974 0.12790 0.2069 0.05999 0.7456 0.7869 4.585 94.03  0.006150 0.04006 0.03832 0.02058 0.02250 0.004571 23.57 25.53 152.50 1709.0 0.1444  0.4245  ...         0.08758\n",
              "84348301 M 11.42 20.38 77.58  386.1  0.14250 0.28390 0.2414 0.10520 0.2597 0.09744 0.4956 1.1560 3.445 27.23  0.009110 0.07458 0.05661 0.01867 0.05963 0.009208 14.91 26.50 98.87  567.7  0.2098  0.8663  ...         0.17300\n",
              "84358402 M 20.29 14.34 135.10 1297.0 0.10030 0.13280 0.1980 0.10430 0.1809 0.05883 0.7572 0.7813 5.438 94.44  0.011490 0.02461 0.05688 0.01885 0.01756 0.005115 22.54 16.67 152.20 1575.0 0.1374  0.2050  ...         0.07678\n",
              "\n",
              "[5 rows x 5 columns]"
            ]
          },
          "metadata": {},
          "execution_count": 10
        }
      ],
      "source": [
        "#Classification Tree - SARCAUGA \n",
        "import pandas as pd\n",
        "import numpy as np\n",
        "import seaborn as sns\n",
        "import matplotlib.pyplot as plt\n",
        "%matplotlib inline\n",
        "from sklearn.model_selection import train_test_split\n",
        "from sklearn import metrics #Import scikit-learn metrics module for accuracy calculation\n",
        "from sklearn.metrics import accuracy_score, classification_report, confusion_matrix\n",
        "from sklearn.ensemble import BaggingClassifier\n",
        "from sklearn.ensemble import RandomForestClassifier\n",
        "from sklearn.tree import DecisionTreeClassifier\n",
        "\n",
        "#loading dataset\n",
        "col_names = ['id', 'diagnosis', 'radius_mean', 'texture_mean', 'perimeter_mean']\n",
        "cancer = pd.read_csv(\"/content/cancer.csv\", header=0, names=col_names)\n",
        "cancer.head()\n",
        "\n"
      ]
    },
    {
      "cell_type": "code",
      "source": [
        "cancer.info()"
      ],
      "metadata": {
        "colab": {
          "base_uri": "https://localhost:8080/"
        },
        "id": "PqF3Q9WBa9av",
        "outputId": "66d81e17-df64-4d98-d893-1b6d144a853b"
      },
      "execution_count": 3,
      "outputs": [
        {
          "output_type": "stream",
          "name": "stdout",
          "text": [
            "<class 'pandas.core.frame.DataFrame'>\n",
            "MultiIndex: 569 entries, (842302, 'M', 17.99, 10.38, 122.8, 1001.0, 0.1184, 0.2776, 0.3001, 0.1471, 0.2419, 0.07871, 1.095, 0.9053, 8.589, 153.4, 0.006399, 0.04904, 0.05372999999999999, 0.01587, 0.03003, 0.006193, 25.38, 17.33, 184.6, 2019.0, 0.1622) to (92751, 'B', 7.76, 24.54, 47.92, 181.0, 0.052629999999999996, 0.04362, 0.0, 0.0, 0.1587, 0.058839999999999996, 0.3857, 1.4280000000000002, 2.548, 19.15, 0.007189, 0.00466, 0.0, 0.0, 0.026760000000000003, 0.002783, 9.456, 30.37, 59.16, 268.6, 0.08996)\n",
            "Data columns (total 5 columns):\n",
            " #   Column          Non-Null Count  Dtype  \n",
            "---  ------          --------------  -----  \n",
            " 0   id              569 non-null    float64\n",
            " 1   diagnosis       569 non-null    float64\n",
            " 2   radius_mean     569 non-null    float64\n",
            " 3   texture_mean    569 non-null    float64\n",
            " 4   perimeter_mean  569 non-null    float64\n",
            "dtypes: float64(5)\n",
            "memory usage: 676.2+ KB\n"
          ]
        }
      ]
    },
    {
      "cell_type": "code",
      "source": [
        "#Your task is to use a \n",
        "#1) decision tree classifier \n",
        "#2) bagging classifier and a \n",
        "#3) random forest classifier \n",
        "#to obtain the highest accuracy possible on the test set. \n",
        "#You may want to refer to the previous chapter to review bagging and random forest as they were explained with regression.\n",
        "#They work very similar in a classification problem, but the final prediction is a majority vote of which class instead of an average of continuous values."
      ],
      "metadata": {
        "id": "QQkq6ZY5a_6H"
      },
      "execution_count": null,
      "outputs": []
    },
    {
      "cell_type": "code",
      "source": [
        "#Regression Tree\n",
        "from sklearn.tree import DecisionTreeRegressor\n",
        "clf = DecisionTreeRegressor(random_state = 42) \n",
        "clf.fit(X , y)"
      ],
      "metadata": {
        "colab": {
          "base_uri": "https://localhost:8080/"
        },
        "id": "1qZ9ddgDbZh-",
        "outputId": "ae6279b4-d8ba-41a4-ce2a-f95910241515"
      },
      "execution_count": 13,
      "outputs": [
        {
          "output_type": "execute_result",
          "data": {
            "text/plain": [
              "DecisionTreeRegressor(random_state=42)"
            ]
          },
          "metadata": {},
          "execution_count": 13
        }
      ]
    },
    {
      "cell_type": "code",
      "source": [
        "# Preparing the Data\n",
        "X = cancer.drop('id', axis=1)\n",
        "y = cancer['id']"
      ],
      "metadata": {
        "id": "JHE4Z0sTbDbW"
      },
      "execution_count": 4,
      "outputs": []
    },
    {
      "cell_type": "code",
      "source": [
        "X_train, X_test, y_train, y_test = train_test_split(X, y, test_size=0.20)"
      ],
      "metadata": {
        "id": "7X_1_PLXbGv3"
      },
      "execution_count": 5,
      "outputs": []
    },
    {
      "cell_type": "code",
      "source": [
        "feature_cols = ['id', 'diagnosis', 'radius_mean', 'texture_mean', 'perimeter_mean']\n",
        "X = cancer[feature_cols]\n",
        "y = cancer.diagnosis"
      ],
      "metadata": {
        "id": "4QIYNVLZbKzQ"
      },
      "execution_count": 6,
      "outputs": []
    },
    {
      "cell_type": "code",
      "source": [
        "from sklearn.model_selection import train_test_split\n",
        "X = cancer.drop('id',axis=1)\n",
        "y = cancer[['id']]\n",
        "X_train, X_test, y_train, y_test = train_test_split(X, y, test_size = 0.3,random_state=42)"
      ],
      "metadata": {
        "id": "MFBchuWfbNsw"
      },
      "execution_count": 7,
      "outputs": []
    },
    {
      "cell_type": "code",
      "source": [
        "clf_model = DecisionTreeClassifier(criterion=\"gini\", random_state=42,max_depth=3, min_samples_leaf=5)   \n",
        "clf.fit(X_train,y_train)"
      ],
      "metadata": {
        "colab": {
          "base_uri": "https://localhost:8080/"
        },
        "id": "LD76gABebQGf",
        "outputId": "c849ee4f-4266-465e-bf91-2877937f2f44"
      },
      "execution_count": 14,
      "outputs": [
        {
          "output_type": "execute_result",
          "data": {
            "text/plain": [
              "DecisionTreeRegressor(random_state=42)"
            ]
          },
          "metadata": {},
          "execution_count": 14
        }
      ]
    },
    {
      "cell_type": "code",
      "source": [
        "train_score = clf.score(X_train, y_train)\n",
        "test_score = clf.score(X_test, y_test)\n",
        "print(train_score)\n",
        "print(test_score)"
      ],
      "metadata": {
        "colab": {
          "base_uri": "https://localhost:8080/"
        },
        "id": "C_-AVwF8b9nh",
        "outputId": "a19a75bb-ced7-47e6-9c4b-9b579ffc9768"
      },
      "execution_count": 15,
      "outputs": [
        {
          "output_type": "stream",
          "name": "stdout",
          "text": [
            "1.0\n",
            "0.8048509010612521\n"
          ]
        }
      ]
    },
    {
      "cell_type": "code",
      "source": [
        "#Random Classifier\n",
        "#Source: https://medium.com/analytics-vidhya/evaluating-a-random-forest-model-9d165595ad56 \n",
        "from sklearn.ensemble import RandomForestClassifier\n",
        "(X, y) = make_classification(n_samples=1000, n_features=4,\n",
        "                           n_informative=2, n_redundant=0,\n",
        "                          random_state=0, shuffle=False)\n",
        "forest = RandomForestClassifier(random_state=42)\n",
        "forest.fit(X, y)"
      ],
      "metadata": {
        "colab": {
          "base_uri": "https://localhost:8080/"
        },
        "id": "S6JAzT22chsH",
        "outputId": "a8aa7ea3-ec40-4d29-8768-c3e914493f9e"
      },
      "execution_count": 42,
      "outputs": [
        {
          "output_type": "execute_result",
          "data": {
            "text/plain": [
              "RandomForestClassifier(random_state=42)"
            ]
          },
          "metadata": {},
          "execution_count": 42
        }
      ]
    },
    {
      "cell_type": "code",
      "source": [
        "feature_cols = ['id', 'diagnosis', 'radius_mean', 'texture_mean', 'perimeter_mean']\n",
        "X = cancer[feature_cols]\n",
        "y = cancer.diagnosis"
      ],
      "metadata": {
        "id": "ZzuZWxQWd1gZ"
      },
      "execution_count": 29,
      "outputs": []
    },
    {
      "cell_type": "code",
      "source": [
        "from sklearn.model_selection import train_test_split\n",
        "X = cancer.drop('id',axis=1)\n",
        "y = cancer[['id']]\n",
        "X_train, X_test, y_train, y_test = train_test_split(X, y, test_size = 0.3,random_state=42)"
      ],
      "metadata": {
        "id": "1ffmy8lddvwJ"
      },
      "execution_count": 27,
      "outputs": []
    },
    {
      "cell_type": "code",
      "source": [
        "X_train, X_test, y_train, y_test = train_test_split(X, y, random_state=1, stratify=y)"
      ],
      "metadata": {
        "id": "X92JBTKGd4WI"
      },
      "execution_count": 44,
      "outputs": []
    },
    {
      "cell_type": "code",
      "source": [
        "forest_model = RandomForestClassifier(random_state=42)\n",
        "forest.fit(X_train, y_train)\n"
      ],
      "metadata": {
        "colab": {
          "base_uri": "https://localhost:8080/"
        },
        "id": "RhH17ZvsdVuw",
        "outputId": "05730a55-08e3-45b7-8793-3846c933dea6"
      },
      "execution_count": 46,
      "outputs": [
        {
          "output_type": "execute_result",
          "data": {
            "text/plain": [
              "RandomForestClassifier(random_state=42)"
            ]
          },
          "metadata": {},
          "execution_count": 46
        }
      ]
    },
    {
      "cell_type": "code",
      "source": [
        "train_score = forest.score(X_train, y_train)\n",
        "test_score = forest.score(X_test, y_test)\n",
        "print(train_score)\n",
        "print(test_score)"
      ],
      "metadata": {
        "colab": {
          "base_uri": "https://localhost:8080/"
        },
        "id": "DaiIiTXifpR7",
        "outputId": "4402089e-2fb8-47fd-ab7b-fadda4e63766"
      },
      "execution_count": 47,
      "outputs": [
        {
          "output_type": "stream",
          "name": "stdout",
          "text": [
            "1.0\n",
            "0.956\n"
          ]
        }
      ]
    },
    {
      "cell_type": "code",
      "source": [
        "#Bagging Classifier\n",
        "#Source: https://scikit-learn.org/stable/modules/generated/sklearn.ensemble.BaggingClassifier.html\n",
        "#2ndSource: https://medium.com/time-to-work/bagging-classifier-6261138b92d4 \n",
        "#3rdSource: https://blog.paperspace.com/bagging-ensemble-methods/\n",
        "from sklearn.svm import SVC\n",
        "from sklearn.ensemble import BaggingClassifier\n",
        "from sklearn.datasets import make_classification\n",
        "\n",
        "import pandas\n",
        "from sklearn import model_selection\n",
        "from sklearn.ensemble import BaggingClassifier\n",
        "from sklearn.tree import DecisionTreeClassifier\n"
      ],
      "metadata": {
        "id": "1ui8mx2Olcpk"
      },
      "execution_count": 67,
      "outputs": []
    },
    {
      "cell_type": "code",
      "source": [
        "seed =7\n",
        "kfold = model_selection.KFold(n_splits=10)\n",
        "cart = DecisionTreeClassifier()\n",
        "num_trees = 100"
      ],
      "metadata": {
        "id": "Xeg_pQenn4Ss"
      },
      "execution_count": 63,
      "outputs": []
    },
    {
      "cell_type": "code",
      "source": [
        "model = BaggingClassifier(base_estimator=cart,n_estimators=num_trees, random_state=seed)\n",
        "\n",
        "results = model_selection.cross_val_score(model, X, cv=kfold)\n",
        "print(train_score)\n",
        "print(test_score)"
      ],
      "metadata": {
        "colab": {
          "base_uri": "https://localhost:8080/"
        },
        "id": "509P-dmBob_s",
        "outputId": "5198b695-d495-4c93-8bd5-caafed33491f"
      },
      "execution_count": 66,
      "outputs": [
        {
          "output_type": "stream",
          "name": "stdout",
          "text": [
            "1.0\n",
            "0.956\n"
          ]
        },
        {
          "output_type": "stream",
          "name": "stderr",
          "text": [
            "/usr/local/lib/python3.7/dist-packages/sklearn/model_selection/_validation.py:372: FitFailedWarning: \n",
            "10 fits failed out of a total of 10.\n",
            "The score on these train-test partitions for these parameters will be set to nan.\n",
            "If these failures are not expected, you can try to debug them by setting error_score='raise'.\n",
            "\n",
            "Below are more details about the failures:\n",
            "--------------------------------------------------------------------------------\n",
            "10 fits failed with the following error:\n",
            "Traceback (most recent call last):\n",
            "  File \"/usr/local/lib/python3.7/dist-packages/sklearn/model_selection/_validation.py\", line 679, in _fit_and_score\n",
            "    estimator.fit(X_train, **fit_params)\n",
            "TypeError: fit() missing 1 required positional argument: 'y'\n",
            "\n",
            "  warnings.warn(some_fits_failed_message, FitFailedWarning)\n"
          ]
        }
      ]
    }
  ]
}